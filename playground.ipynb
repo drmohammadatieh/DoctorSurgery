{
 "cells": [
  {
   "cell_type": "code",
   "execution_count": 43,
   "metadata": {},
   "outputs": [
    {
     "name": "stdout",
     "output_type": "stream",
     "text": [
      "2022-05-12 18:01:27.383963\n",
      "2022-05-13 02:01:27.383963\n",
      "3\n"
     ]
    }
   ],
   "source": [
    "import datetime\n",
    "date = datetime.datetime.today()\n",
    "start_time = start_date = date\n",
    "end_date = start_date + datetime.timedelta(days = 20)\n",
    "end_time = start_time + datetime.timedelta(hours = 8)\n",
    "\n",
    "print(start_time)\n",
    "print(end_time)\n",
    "print(start_date.weekday())\n",
    "\n",
    "# while date < end_date:\n",
    "    \n",
    "#     if date.weekday() not in [5,6]:\n",
    "    \n",
    "#         while start_time < end_time:\n",
    "#             print([date,start_time])\n",
    "#             start_time += datetime.timedelta(minutes=30)\n",
    "#             print(start_time)\n",
    "#     date += datetime.timedelta(days=1)\n"
   ]
  },
  {
   "cell_type": "code",
   "execution_count": 44,
   "metadata": {},
   "outputs": [
    {
     "name": "stdout",
     "output_type": "stream",
     "text": [
      "[<__main__.Patient object at 0x104b2dbe0>, <__main__.Patient object at 0x104b2d9a0>]\n"
     ]
    }
   ],
   "source": [
    "class Patient():\n",
    "    \n",
    "    global patients_list # access the global patients_list that conain all patients in list format\n",
    "    patients_obj_list = [] # Stores patients as objects\n",
    "\n",
    "    def __init__(self,file_no,first_name,last_name, address='',phone='') -> None:\n",
    "        self.file_no = file_no\n",
    "        self.first_name = first_name\n",
    "        self.last_name = last_name\n",
    "        self.address = address\n",
    "        self.phone = phone\n",
    "       \n",
    "    def check_duplicate(self):\n",
    "       pass\n",
    "\n",
    "a = Patient('1','mohammad','ahamad')\n",
    "b = Patient('2','rami','atieh')\n",
    "\n",
    "a.patients_obj_list.append(a)\n",
    "b.patients_obj_list.append(b)\n",
    "\n",
    "print(a.patients_obj_list)\n",
    "\n"
   ]
  },
  {
   "cell_type": "code",
   "execution_count": 3,
   "metadata": {},
   "outputs": [
    {
     "name": "stdout",
     "output_type": "stream",
     "text": [
      "PATIENT\n"
     ]
    }
   ],
   "source": [
    "print('patient'.upper())"
   ]
  }
 ],
 "metadata": {
  "interpreter": {
   "hash": "5cf590adf64b12f100e2631293f66eedf21812d31d21d345d3dafaac5b13c0f5"
  },
  "kernelspec": {
   "display_name": "Python 3.9.9 64-bit",
   "language": "python",
   "name": "python3"
  },
  "language_info": {
   "codemirror_mode": {
    "name": "ipython",
    "version": 3
   },
   "file_extension": ".py",
   "mimetype": "text/x-python",
   "name": "python",
   "nbconvert_exporter": "python",
   "pygments_lexer": "ipython3",
   "version": "3.9.12"
  },
  "orig_nbformat": 4
 },
 "nbformat": 4,
 "nbformat_minor": 2
}
