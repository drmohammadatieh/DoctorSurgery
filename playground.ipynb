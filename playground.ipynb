{
 "cells": [
  {
   "cell_type": "code",
   "execution_count": 43,
   "metadata": {},
   "outputs": [
    {
     "name": "stdout",
     "output_type": "stream",
     "text": [
      "2022-05-12 18:01:27.383963\n",
      "2022-05-13 02:01:27.383963\n",
      "3\n"
     ]
    }
   ],
   "source": [
    "import datetime\n",
    "date = datetime.datetime.today()\n",
    "start_time = start_date = date\n",
    "end_date = start_date + datetime.timedelta(days = 20)\n",
    "end_time = start_time + datetime.timedelta(hours = 8)\n",
    "\n",
    "print(start_time)\n",
    "print(end_time)\n",
    "print(start_date.weekday())\n",
    "\n",
    "# while date < end_date:\n",
    "    \n",
    "#     if date.weekday() not in [5,6]:\n",
    "    \n",
    "#         while start_time < end_time:\n",
    "#             print([date,start_time])\n",
    "#             start_time += datetime.timedelta(minutes=30)\n",
    "#             print(start_time)\n",
    "#     date += datetime.timedelta(days=1)\n"
   ]
  },
  {
   "cell_type": "code",
   "execution_count": 8,
   "metadata": {},
   "outputs": [
    {
     "name": "stdout",
     "output_type": "stream",
     "text": [
      "[mohammad ahamad, rami atieh]\n",
      "mohammad ahamad\n"
     ]
    }
   ],
   "source": [
    "patients_list = []\n",
    "\n",
    "class Patient():\n",
    "    \n",
    "    global patients_list # access the global patients_list that conain all patients in list format\n",
    "    patients_obj_list = [] # Stores patients as objects\n",
    "\n",
    "    def __init__(self,file_no,first_name,last_name, address='',phone='') -> None:\n",
    "        self.file_no = file_no\n",
    "        self.first_name = first_name\n",
    "        self.last_name = last_name\n",
    "        self.address = address\n",
    "        self.phone = phone\n",
    "       \n",
    "    def check_duplicate(self):\n",
    "       pass\n",
    "\n",
    "\n",
    "    def __repr__(self):\n",
    "        return f'{self.first_name} {self.last_name}'\n",
    "\n",
    "a = Patient('1','mohammad','ahamad')\n",
    "b = Patient('2','rami','atieh')\n",
    "\n",
    "a.patients_obj_list.append(a)\n",
    "b.patients_obj_list.append(b)\n",
    "\n",
    "print(a.patients_obj_list)\n",
    "\n",
    "print(a)\n"
   ]
  },
  {
   "cell_type": "code",
   "execution_count": 1,
   "metadata": {},
   "outputs": [
    {
     "name": "stdout",
     "output_type": "stream",
     "text": [
      "False\n"
     ]
    }
   ],
   "source": [
    "a = ''\n",
    "\n",
    "print(a.isdigit())"
   ]
  },
  {
   "cell_type": "code",
   "execution_count": 9,
   "metadata": {},
   "outputs": [
    {
     "name": "stdout",
     "output_type": "stream",
     "text": [
      "3\n"
     ]
    }
   ],
   "source": [
    "a = 1,2\n",
    "\n",
    "def afunction(a,b):\n",
    "    print(a + b)\n",
    "\n",
    "\n",
    "afunction(*a)\n"
   ]
  },
  {
   "cell_type": "code",
   "execution_count": 26,
   "metadata": {},
   "outputs": [
    {
     "name": "stdout",
     "output_type": "stream",
     "text": [
      "2022-05-08 00:00:00\n"
     ]
    }
   ],
   "source": [
    "import datetime\n",
    "\n",
    "time = '08-05-2022'\n",
    "time_object = datetime.datetime.strptime(time,'%d-%m-%Y')\n",
    "new_format = time_object.i\n",
    "\n",
    "print(time_object.str)"
   ]
  },
  {
   "cell_type": "code",
   "execution_count": 73,
   "metadata": {},
   "outputs": [
    {
     "name": "stdout",
     "output_type": "stream",
     "text": [
      "3600 <class 'int'>\n"
     ]
    }
   ],
   "source": [
    "import datetime\n",
    "\n",
    "doctors_working_hours = [['Mohammad','08:00','5']]\n",
    "selected_doctor = 'Mohammad'\n",
    "start_time = datetime.datetime.strptime(\n",
    "    [record[1] for record in doctors_working_hours if record[0] == selected_doctor][0],'%H:%M')\n",
    "working_hours = int([record[2] for record in doctors_working_hours if record[0] == selected_doctor][0])\n",
    "\n",
    "end_time = (start_time + datetime.timedelta(hours=1))\n",
    "difference = end_time-start_time\n",
    "print(difference.seconds, type(difference.seconds))\n"
   ]
  },
  {
   "cell_type": "code",
   "execution_count": 79,
   "metadata": {},
   "outputs": [
    {
     "name": "stdout",
     "output_type": "stream",
     "text": [
      "1\n"
     ]
    }
   ],
   "source": [
    "print(int(1.5))\n",
    "    "
   ]
  }
 ],
 "metadata": {
  "interpreter": {
   "hash": "5cf590adf64b12f100e2631293f66eedf21812d31d21d345d3dafaac5b13c0f5"
  },
  "kernelspec": {
   "display_name": "Python 3.9.9 64-bit",
   "language": "python",
   "name": "python3"
  },
  "language_info": {
   "codemirror_mode": {
    "name": "ipython",
    "version": 3
   },
   "file_extension": ".py",
   "mimetype": "text/x-python",
   "name": "python",
   "nbconvert_exporter": "python",
   "pygments_lexer": "ipython3",
   "version": "3.9.9"
  },
  "orig_nbformat": 4
 },
 "nbformat": 4,
 "nbformat_minor": 2
}
