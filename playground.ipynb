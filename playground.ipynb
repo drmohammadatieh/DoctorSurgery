{
 "cells": [
  {
   "cell_type": "code",
   "execution_count": 15,
   "metadata": {},
   "outputs": [
    {
     "name": "stdout",
     "output_type": "stream",
     "text": [
      "2022-05-23 00:47:24.214027\n",
      "2022-05-23 08:47:24.214027\n",
      "0\n"
     ]
    }
   ],
   "source": [
    "import datetime\n",
    "date = datetime.datetime.today()\n",
    "start_time = start_date = date\n",
    "end_date = start_date + datetime.timedelta(days = 20)\n",
    "end_time = start_time + datetime.timedelta(hours = 8)\n",
    "\n",
    "print(start_time)\n",
    "print(end_time)\n",
    "print(start_date.weekday())\n",
    "\n",
    "# while date < end_date:\n",
    "    \n",
    "#     if date.weekday() not in [5,6]:\n",
    "    \n",
    "#         while start_time < end_time:\n",
    "#             print([date,start_time])\n",
    "#             start_time += datetime.timedelta(minutes=30)\n",
    "#             print(start_time)\n",
    "#     date += datetime.timedelta(days=1)\n"
   ]
  },
  {
   "cell_type": "code",
   "execution_count": 16,
   "metadata": {},
   "outputs": [
    {
     "name": "stdout",
     "output_type": "stream",
     "text": [
      "[mohammad ahamad, rami atieh]\n",
      "mohammad ahamad\n"
     ]
    }
   ],
   "source": [
    "patients_list = []\n",
    "\n",
    "class Patient():\n",
    "    \n",
    "    global patients_list # access the global patients_list that conain all patients in list format\n",
    "    patients_obj_list = [] # Stores patients as objects\n",
    "\n",
    "    def __init__(self,file_no,first_name,last_name, address='',phone='') -> None:\n",
    "        self.file_no = file_no\n",
    "        self.first_name = first_name\n",
    "        self.last_name = last_name\n",
    "        self.address = address\n",
    "        self.phone = phone\n",
    "       \n",
    "    def check_duplicate(self):\n",
    "       pass\n",
    "\n",
    "\n",
    "    def __repr__(self):\n",
    "        return f'{self.first_name} {self.last_name}'\n",
    "\n",
    "a = Patient('1','mohammad','ahamad')\n",
    "b = Patient('2','rami','atieh')\n",
    "\n",
    "a.patients_obj_list.append(a)\n",
    "b.patients_obj_list.append(b)\n",
    "\n",
    "print(a.patients_obj_list)\n",
    "\n",
    "print(a)\n"
   ]
  },
  {
   "cell_type": "code",
   "execution_count": 17,
   "metadata": {},
   "outputs": [
    {
     "name": "stdout",
     "output_type": "stream",
     "text": [
      "False\n"
     ]
    }
   ],
   "source": [
    "a = ''\n",
    "\n",
    "print(a.isdigit())"
   ]
  },
  {
   "cell_type": "code",
   "execution_count": 18,
   "metadata": {},
   "outputs": [
    {
     "name": "stdout",
     "output_type": "stream",
     "text": [
      "3\n"
     ]
    }
   ],
   "source": [
    "a = 1,2\n",
    "\n",
    "def afunction(a,b):\n",
    "    print(a + b)\n",
    "\n",
    "\n",
    "afunction(*a)\n"
   ]
  },
  {
   "cell_type": "code",
   "execution_count": 19,
   "metadata": {},
   "outputs": [
    {
     "ename": "AttributeError",
     "evalue": "'datetime.datetime' object has no attribute 'i'",
     "output_type": "error",
     "traceback": [
      "\u001b[0;31m---------------------------------------------------------------------------\u001b[0m",
      "\u001b[0;31mAttributeError\u001b[0m                            Traceback (most recent call last)",
      "\u001b[1;32m/Users/Mohammad/Library/CloudStorage/OneDrive-just.edu.jo/CS/Programming/Python Projects/UoEO/DoctorSurgery/playground.ipynb Cell 5'\u001b[0m in \u001b[0;36m<cell line: 5>\u001b[0;34m()\u001b[0m\n\u001b[1;32m      <a href='vscode-notebook-cell:/Users/Mohammad/Library/CloudStorage/OneDrive-just.edu.jo/CS/Programming/Python%20Projects/UoEO/DoctorSurgery/playground.ipynb#ch0000004?line=2'>3</a>\u001b[0m time \u001b[39m=\u001b[39m \u001b[39m'\u001b[39m\u001b[39m08-05-2022\u001b[39m\u001b[39m'\u001b[39m\n\u001b[1;32m      <a href='vscode-notebook-cell:/Users/Mohammad/Library/CloudStorage/OneDrive-just.edu.jo/CS/Programming/Python%20Projects/UoEO/DoctorSurgery/playground.ipynb#ch0000004?line=3'>4</a>\u001b[0m time_object \u001b[39m=\u001b[39m datetime\u001b[39m.\u001b[39mdatetime\u001b[39m.\u001b[39mstrptime(time,\u001b[39m'\u001b[39m\u001b[39m%d\u001b[39;00m\u001b[39m-\u001b[39m\u001b[39m%\u001b[39m\u001b[39mm-\u001b[39m\u001b[39m%\u001b[39m\u001b[39mY\u001b[39m\u001b[39m'\u001b[39m)\n\u001b[0;32m----> <a href='vscode-notebook-cell:/Users/Mohammad/Library/CloudStorage/OneDrive-just.edu.jo/CS/Programming/Python%20Projects/UoEO/DoctorSurgery/playground.ipynb#ch0000004?line=4'>5</a>\u001b[0m new_format \u001b[39m=\u001b[39m time_object\u001b[39m.\u001b[39;49mi\n\u001b[1;32m      <a href='vscode-notebook-cell:/Users/Mohammad/Library/CloudStorage/OneDrive-just.edu.jo/CS/Programming/Python%20Projects/UoEO/DoctorSurgery/playground.ipynb#ch0000004?line=6'>7</a>\u001b[0m \u001b[39mprint\u001b[39m(time_object\u001b[39m.\u001b[39mstr)\n",
      "\u001b[0;31mAttributeError\u001b[0m: 'datetime.datetime' object has no attribute 'i'"
     ]
    }
   ],
   "source": [
    "import datetime\n",
    "\n",
    "time = '08-05-2022'\n",
    "time_object = datetime.datetime.strptime(time,'%d-%m-%Y')\n",
    "new_format = time_object.i\n",
    "\n",
    "print(time_object.str)"
   ]
  },
  {
   "cell_type": "code",
   "execution_count": null,
   "metadata": {},
   "outputs": [
    {
     "name": "stdout",
     "output_type": "stream",
     "text": [
      "3600 <class 'int'>\n"
     ]
    }
   ],
   "source": [
    "import datetime\n",
    "\n",
    "doctors_working_hours = [['Mohammad','08:00','5']]\n",
    "selected_doctor = 'Mohammad'\n",
    "start_time = datetime.datetime.strptime(\n",
    "    [record[1] for record in doctors_working_hours if record[0] == selected_doctor][0],'%H:%M')\n",
    "working_hours = int([record[2] for record in doctors_working_hours if record[0] == selected_doctor][0])\n",
    "\n",
    "end_time = (start_time + datetime.timedelta(hours=1))\n",
    "difference = end_time-start_time\n",
    "print(difference.seconds, type(difference.seconds))\n"
   ]
  },
  {
   "cell_type": "code",
   "execution_count": 25,
   "metadata": {},
   "outputs": [
    {
     "name": "stdout",
     "output_type": "stream",
     "text": [
      "\u001b[33mNo match was found hit enter to try again or enter -1 to go to main menu: \u001b[0m\n"
     ]
    }
   ],
   "source": [
    "\n",
    "\n",
    "print('\\033[33mNo match was found hit enter to try again or enter -1 to go to main menu: \\033[0m')"
   ]
  }
 ],
 "metadata": {
  "interpreter": {
   "hash": "5cf590adf64b12f100e2631293f66eedf21812d31d21d345d3dafaac5b13c0f5"
  },
  "kernelspec": {
   "display_name": "Python 3.9.9 64-bit",
   "language": "python",
   "name": "python3"
  },
  "language_info": {
   "codemirror_mode": {
    "name": "ipython",
    "version": 3
   },
   "file_extension": ".py",
   "mimetype": "text/x-python",
   "name": "python",
   "nbconvert_exporter": "python",
   "pygments_lexer": "ipython3",
   "version": "3.9.12"
  },
  "orig_nbformat": 4
 },
 "nbformat": 4,
 "nbformat_minor": 2
}
